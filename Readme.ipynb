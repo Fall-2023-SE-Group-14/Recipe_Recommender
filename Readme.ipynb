{
 "cells": [
  {
   "cell_type": "markdown",
   "id": "64700f10",
   "metadata": {},
   "source": [
    "## Recipe Recommender\n",
    "![Helo](recipe.gif)\n",
    "\n",
    "\n",
    "Recipe Recommender is an innovative application that simplifies the process of meal planning by suggesting recipes based on the ingredients you have readily available. Cooking can be a delightful experience, but deciding what to prepare with the ingredients on hand can be a daunting task. Our software is designed to alleviate this culinary challenge by offering a wide range of delectable recipes you can create using the ingredients in your kitchen.\n",
    "\n",
    "## Key Features\n",
    "\n",
    "- **Ingredient-Based Recommendations:** Input the ingredients you have, and Recipe Recommender will provide you with a selection of recipes that match your available items.\n",
    "\n",
    "- **Diverse Recipe Collection:** Explore a diverse collection of recipes ranging from quick and easy weekday meals to gourmet creations for special occasions.\n",
    "\n",
    "- **Interactive and User-Friendly:** Our user-friendly interface makes it easy to find, save, and follow your favorite recipes.\n",
    "\n",
    "- **Effortless Meal Planning:** Say goodbye to the hassle of meal planning and let Recipe Recommender inspire your culinary journey.\n",
    "\n",
    "## How It Works\n",
    "\n",
    "1. Input the ingredients you have on hand.\n",
    "2. Browse through a curated list of recipes that match your available ingredients.\n",
    "3. Select a recipe, view the ingredients and instructions, and start cooking.\n",
    "\n",
    "Experience the joy of cooking with Recipe Recommender, and never wonder what to prepare for a meal again. Bon appétit!\n"
   ]
  },
  {
   "cell_type": "markdown",
   "id": "a6d57037",
   "metadata": {},
   "source": [
    "[![License](https://img.shields.io/badge/License-MIT-blue.svg)](https://opensource.org/licenses/MIT)\n"
   ]
  },
  {
   "cell_type": "markdown",
   "id": "1d7c06f5",
   "metadata": {},
   "source": [
    "## Tech Stack\n",
    "\n",
    "![NodeJS](https://img.shields.io/badge/node.js-6DA55F?style=for-the-badge&logo=node.js&logoColor=white) ![React](https://img.shields.io/badge/react-%2320232a.svg?style=for-the-badge&logo=react&logoColor=%2361DAFB) ![Express.js](https://img.shields.io/badge/express.js-%23404d59.svg?style=for-the-badge&logo=express&logoColor=%2361DAFB) ![NPM](https://img.shields.io/badge/npm-CB3837?style=for-the-badge&logo=npm&logoColor=white) ![JEST](https://img.shields.io/badge/Jest-C21325?style=for-the-badge&logo=jest&logoColor=white) ![MongoDB](https://img.shields.io/badge/MongoDB-%234ea94b.svg?style=for-the-badge&logo=mongodb&logoColor=white) ![HTML](https://img.shields.io/badge/HTML5-E34F26?style=for-the-badge&logo=html5&logoColor=white) ![CSS](https://img.shields.io/badge/CSS3-1572B6?style=for-the-badge&logo=css3&logoColor=white)\n"
   ]
  },
  {
   "cell_type": "markdown",
   "id": "7f31fbd2",
   "metadata": {},
   "source": [
    "## Software Requirements\n",
    "\n",
    "- [Node.js v14.7.6](https://nodejs.org/en/download/)\n",
    "- [NPM v6.14.15](https://nodejs.org/en/download/)\n"
   ]
  },
  {
   "cell_type": "code",
   "execution_count": null,
   "id": "c77c358a",
   "metadata": {},
   "outputs": [],
   "source": [
    "## Directory Structure\n",
    "\n",
    "This is an overview of the directory structure of the project repository:\n",
    "\n",
    "- **/src**: Contains the main source code for the project.\n",
    "- **/docs**: Documentation files, including READMEs, user manuals, and API documentation.\n",
    "- **/tests**: Unit tests, integration tests, and test-related code.\n",
    "- **/data**: Datasets, data files, or data preprocessing scripts.\n",
    "- **/config**: Configuration files for the project.\n",
    "- **/scripts**: Additional utility scripts.\n",
    "- **/assets**: Graphics, images, media files, and other project assets.\n",
    "- **/build**: Compiled code, build artifacts, and output files (ignored in version control)."
   ]
  },
  {
   "cell_type": "markdown",
   "id": "01019097",
   "metadata": {},
   "source": [
    "## Setup Steps\n",
    "**Installation**\n",
    "\n",
    "1. Clone repository using \"https://github.com/Fall-2023-SE-Group-14/Recipe_Recommender.git\"\n",
    "      ```\n",
    "      git clone https://github.com/Fall-2023-SE-Group-14/Recipe_Recommender.git\n",
    "      ```\n",
    "2. Setup for frontend:\n",
    "\n",
    "    open terminal and navigate to the **frontend** folder and execute the following:\n",
    "      ```\n",
    "      npm install\n",
    "      ```\n",
    "    Setup for backend:\n",
    "        open terminal and navigate to the **backend** folder and execute the following:\n",
    "\n",
    "      ```\n",
    "      npm install\n",
    "      ```\n",
    "**Execution**\n",
    "1. To start backend server\n",
    "    ```\n",
    "    npx nodemon\n",
    "    ```\n",
    "2. To start frontend server\n",
    "    ```\n",
    "    npm start\n",
    "    ```\n",
    "3. After this a window will open in the browser for login"
   ]
  },
  {
   "cell_type": "code",
   "execution_count": null,
   "id": "fa8621e5",
   "metadata": {},
   "outputs": [],
   "source": [
    "## Modifications\n",
    "\n",
    "1. User-friendly and improved UI\n",
    "2. "
   ]
  }
 ],
 "metadata": {
  "kernelspec": {
   "display_name": "Python 3 (ipykernel)",
   "language": "python",
   "name": "python3"
  },
  "language_info": {
   "codemirror_mode": {
    "name": "ipython",
    "version": 3
   },
   "file_extension": ".py",
   "mimetype": "text/x-python",
   "name": "python",
   "nbconvert_exporter": "python",
   "pygments_lexer": "ipython3",
   "version": "3.11.0"
  }
 },
 "nbformat": 4,
 "nbformat_minor": 5
}
